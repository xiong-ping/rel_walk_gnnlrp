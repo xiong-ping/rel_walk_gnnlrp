{
 "cells": [
  {
   "cell_type": "code",
   "execution_count": null,
   "metadata": {},
   "outputs": [],
   "source": [
    "import numpy as np\n",
    "%load_ext autoreload\n",
    "%autoreload 2\n",
    "from load_data import load_data\n",
    "import torch\n",
    "from modules import GNN\n",
    "from train_model import train_model\n",
    "from subgraph_relevance import subgraph_original, subgraph_mp_transcription, subgraph_mp_forward_hook, get_H_transform\n",
    "import time\n",
    "from tqdm import tqdm\n",
    "import matplotlib.pyplot as plt\n",
    "import sys\n",
    "import pandas as pd\n",
    "from io import StringIO\n",
    "import pickle as pkl\n",
    "from top_walks import *\n",
    "from utils import *\n",
    "from IPython.display import SVG, display\n",
    "from baseline_comp import *\n",
    "import itertools"
   ]
  },
  {
   "cell_type": "code",
   "execution_count": null,
   "metadata": {},
   "outputs": [],
   "source": [
    "dataset_model_dirs = [['BA-2motif','gin-3-ba2motif.torch'],\n",
    "                      ['BA-2motif','gin-5-ba2motif.torch'],\n",
    "                      ['BA-2motif','gin-7-ba2motif.torch'],\n",
    "                      ['MUTAG', 'gin-3-mutag.torch'],\n",
    "                      ['Mutagenicity', 'gin-3-mutagenicity.torch'],\n",
    "                      ['REDDIT-BINARY', 'gin-5-reddit.torch'],\n",
    "                      ['Graph-SST2', 'gcn-3-sst2graph.torch']]"
   ]
  },
  {
   "cell_type": "code",
   "execution_count": null,
   "metadata": {},
   "outputs": [],
   "source": [
    "dataset, model_dir = dataset_model_dirs[6]\n",
    "graphs, pos_idx, neg_idx = load_data(dataset)\n",
    "nn = torch.load('models/'+model_dir)"
   ]
  },
  {
   "cell_type": "code",
   "execution_count": null,
   "metadata": {},
   "outputs": [],
   "source": [
    "top_k_intersection_nb_dict = {}\n",
    "np.random.seed(0)\n",
    "graph_tp_idxs = []\n",
    "graph_idxs = np.random.choice(len(graphs), 200)\n",
    "for graph_idx in graph_idxs:\n",
    "    g = graphs[graph_idx]\n",
    "    pred = nn.forward(g.get_adj(),H0=g.node_features).argmax()\n",
    "    if g.label == 0 and pred == 0 and g.nbnodes ** 4 >= 1000:\n",
    "        graph_tp_idxs.append(graph_idx)\n",
    "    if len(graph_tp_idxs) == 50: break\n",
    "\n",
    "for tag in ['ab', 'zero', 'gamma', '02']:\n",
    "    graphs_res = []\n",
    "    for graph_idx in (graph_tp_idxs):\n",
    "        g = graphs[graph_idx]\n",
    "        pred = nn.forward(g.get_adj(),H0=g.node_features).argmax()\n",
    "\n",
    "        res = []\n",
    "        if tag == 'zero':\n",
    "            lrp_rule = 'none'\n",
    "            H, transforms = get_H_transform(g.get_adj(),nn,H0=g.node_features,gammas=[0]*4, mode=lrp_rule)\n",
    "        elif tag == 'gamma':\n",
    "            H, transforms = get_H_transform(g.get_adj(),nn,H0=g.node_features,gammas=None, mode='gamma')\n",
    "        elif tag == '02':\n",
    "            H, transforms = get_H_transform(g.get_adj(),nn,H0=g.node_features,gammas=[0.2]*4, mode='gamma')\n",
    "        elif tag == 'ab':\n",
    "            H, transforms = get_H_transform(g.get_adj(),nn,H0=g.node_features,gammas=[0.2]*4, mode='clip-pos')\n",
    "        init_rel = np.zeros_like(H)\n",
    "        init_rel[:, pred] = H[:, pred]\n",
    "        \n",
    "        walk_rels = {}\n",
    "        for walk in tqdm(itertools.product(np.arange(g.nbnodes),np.arange(g.nbnodes),np.arange(g.nbnodes),np.arange(g.nbnodes))):\n",
    "            rel = walk_rel(transforms, init_rel, walk, mode=\"node\")\n",
    "            walk_rels[tuple(walk)] = rel\n",
    "        sorted_walk_rels = sorted(walk_rels.items(), key=lambda item: item[1], reverse=True)\n",
    "\n",
    "        top_max_walks, top_min_walks = topk_walks(g, nn, num_walks=200, lrp_mode=\"gamma\", negative_transition_strategy='none', mode=\"node\", transforms=transforms, H=init_rel, how_max='none')\n",
    "        res.append([top_max_walks + top_min_walks, sorted_walk_rels[:200]])\n",
    "        \n",
    "        graphs_res.append(res)\n",
    "\n",
    "    pkl.dump(graphs_res, open(f\"results/{dataset}_top_k_walk_NODE_raw_{tag}.pkl\",\"wb\"))\n"
   ]
  },
  {
   "attachments": {},
   "cell_type": "markdown",
   "metadata": {},
   "source": [
    "# Plot"
   ]
  },
  {
   "cell_type": "code",
   "execution_count": null,
   "metadata": {},
   "outputs": [],
   "source": [
    "def process_data(graphs_res, K=200):\n",
    "    pres_l = []\n",
    "    recall_l = []\n",
    "\n",
    "    for gres in tqdm(graphs_res):\n",
    "        pres = []\n",
    "        recall = []\n",
    "        approx_top_k = sorted(gres[0][0][:K], key=lambda x: x[1], reverse=True)\n",
    "        real_top_k = gres[0][1]\n",
    "        set_real_top_k = set([item[0] for item in real_top_k[:len(approx_top_k)]])\n",
    "        if real_top_k[len(approx_top_k)-1][1] == real_top_k[len(approx_top_k)-2][1]:\n",
    "            # If same relevant walks in top-K* set, add all same rel walks to it\n",
    "            for idx in range(len(approx_top_k), len(real_top_k)):\n",
    "                if real_top_k[idx][1] == real_top_k[len(approx_top_k)-1][1]: set_real_top_k.add(real_top_k[idx][0])\n",
    "                else: break\n",
    "\n",
    "        for k in range(1,K+1):\n",
    "            pres.append(len(set([item[0] for item in approx_top_k[:k]]).intersection(set_real_top_k)) / min(k, len(approx_top_k)))    \n",
    "            recall.append(len(set([item[0] for item in approx_top_k[:k]]).intersection(set_real_top_k)) / min(K, len(approx_top_k)))\n",
    "        pres_l.append(pres.copy())\n",
    "        recall_l.append(recall.copy())\n",
    "    return pres_l, recall_l"
   ]
  },
  {
   "cell_type": "code",
   "execution_count": null,
   "metadata": {},
   "outputs": [],
   "source": [
    "fig = plt.figure(figsize=(8,4))\n",
    "for i, K in enumerate([5,25,100,200]):\n",
    "    plt.subplot(2,4,1+i)\n",
    "    styles = {'ab': 'r-', 'gamma': 'b-.', 'zero': 'g--', '02': 'y-'}\n",
    "    tags = ['zero', '02', 'gamma', 'ab']\n",
    "    dataset = 'BA-2motif'\n",
    "    # dataset = 'MUTAG'\n",
    "    for tag in tags:\n",
    "        graphs_res = pkl.load(open(f\"results/{dataset}_top_k_walk_NODE_raw_{tag}.pkl\",\"rb\"))\n",
    "        pres_l, recall_l = process_data(graphs_res, K=K)\n",
    "        plt.plot(np.array(recall_l).mean(axis=0), np.array(pres_l).mean(axis=0), styles[tag])\n",
    "\n",
    "    if i == 0: \n",
    "        plt.ylabel(f\"Precision\\n{dataset}\")\n",
    "    else:\n",
    "        plt.yticks([])\n",
    "\n",
    "    if i == 3:\n",
    "        plt.legend([r'$\\gamma=0$', r'$\\gamma = 0.2$', r'$\\gamma=[3,\\cdots,0]$', r'$\\gamma \\rightarrow \\infty$'], loc='lower center', bbox_to_anchor=(-1.5, -1.85), ncol=4)\n",
    "    plt.xlim(0,1)\n",
    "    plt.ylim(-0.01,1.01)\n",
    "    plt.xticks([])\n",
    "    plt.title(r\"$K^*$ = \"+str(K))\n",
    "\n",
    "    plt.subplot(2,4,5+i)\n",
    "    dataset = 'Mutagenicity'\n",
    "    # dataset = 'Graph_SST2'\n",
    "    for tag in tags:\n",
    "        graphs_res = pkl.load(open(f\"results/{dataset}_top_k_walk_NODE_raw_{tag}.pkl\",\"rb\"))\n",
    "        pres_l, recall_l = process_data(graphs_res, K=K)\n",
    "        plt.plot(np.array(recall_l).mean(axis=0), np.array(pres_l).mean(axis=0), styles[tag])\n",
    "\n",
    "\n",
    "    if i == 0:\n",
    "        plt.ylabel(f\"Precision\\n{dataset}\")\n",
    "    else:\n",
    "        plt.yticks([])\n",
    "    plt.xlabel('Recall')\n",
    "    plt.xlim(0,1)\n",
    "    plt.ylim(-0.01,1.01)\n",
    "    \n",
    "\n",
    "plt.savefig('imgs/precision_recall_topk_walks_AMP_2x4.svg', dpi=600, format='svg',bbox_inches='tight')\n"
   ]
  }
 ],
 "metadata": {
  "kernelspec": {
   "display_name": "sGNN-LRP",
   "language": "python",
   "name": "python3"
  },
  "language_info": {
   "codemirror_mode": {
    "name": "ipython",
    "version": 3
   },
   "file_extension": ".py",
   "mimetype": "text/x-python",
   "name": "python",
   "nbconvert_exporter": "python",
   "pygments_lexer": "ipython3",
   "version": "3.8.13 | packaged by conda-forge | (default, Mar 25 2022, 06:04:14) \n[Clang 12.0.1 ]"
  },
  "orig_nbformat": 4,
  "vscode": {
   "interpreter": {
    "hash": "65d5eb093fbec7e7bc52665d82a3cd76b3638a6de4797644d5d4a8277e42c4dc"
   }
  }
 },
 "nbformat": 4,
 "nbformat_minor": 2
}
